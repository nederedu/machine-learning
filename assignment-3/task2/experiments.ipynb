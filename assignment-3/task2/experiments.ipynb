{
 "cells": [
  {
   "cell_type": "markdown",
   "metadata": {},
   "source": [
    "# Apply the dimensionality reduction algorithms on the social media and mental health dataset"
   ]
  },
  {
   "cell_type": "code",
   "execution_count": 8,
   "metadata": {},
   "outputs": [
    {
     "name": "stdout",
     "output_type": "stream",
     "text": [
      "Dimensionality reduction completed. Results saved to CSV files.\n"
     ]
    }
   ],
   "source": [
    "%run dimensionality_smmh.py ../datasets/smmh.csv"
   ]
  },
  {
   "cell_type": "markdown",
   "metadata": {},
   "source": [
    "# Apply the dimensionality reduction algorithms on the US Health Insurance dataset"
   ]
  },
  {
   "cell_type": "code",
   "execution_count": 9,
   "metadata": {},
   "outputs": [
    {
     "name": "stdout",
     "output_type": "stream",
     "text": [
      "Dimensionality reduction completed. Results saved to CSV files.\n"
     ]
    }
   ],
   "source": [
    "%run dimensionality_insurance.py ../datasets/insurance.csv"
   ]
  }
 ],
 "metadata": {
  "kernelspec": {
   "display_name": "a2env",
   "language": "python",
   "name": "python3"
  },
  "language_info": {
   "codemirror_mode": {
    "name": "ipython",
    "version": 3
   },
   "file_extension": ".py",
   "mimetype": "text/x-python",
   "name": "python",
   "nbconvert_exporter": "python",
   "pygments_lexer": "ipython3",
   "version": "3.10.14"
  }
 },
 "nbformat": 4,
 "nbformat_minor": 2
}
